{
 "cells": [
  {
   "cell_type": "code",
   "execution_count": null,
   "id": "1PbxHas94vfS",
   "metadata": {
    "id": "1PbxHas94vfS",
    "tags": []
   },
   "outputs": [],
   "source": [
    "!pip3 install --no-cache-dir --upgrade \"kfp>2\" google-cloud-aiplatform==1.25.0 # You may need to install kfp or aiplatform"
   ]
  },
  {
   "cell_type": "markdown",
   "id": "26a695b4-1f21-40bd-bdef-3c669251a47a",
   "metadata": {},
   "source": [
    "# Reference  \n",
    "\n",
    "https://github.com/GoogleCloudPlatform/cloud-for-marketing/blob/main/marketing-analytics/predicting/kfp_pipeline/Propensity_Pipeline.ipynb"
   ]
  },
  {
   "cell_type": "code",
   "execution_count": 1,
   "id": "74aa4e2f-c64b-4690-89e0-37fd7d1c2111",
   "metadata": {
    "tags": []
   },
   "outputs": [],
   "source": [
    "\n",
    "! pip3 install --upgrade --quiet google-cloud-aiplatform \\\n",
    "                                 google-cloud-storage \\\n",
    "                                 kfp==2.7.0 \\\n",
    "                                 google-cloud-pipeline-components"
   ]
  },
  {
   "cell_type": "code",
   "execution_count": 22,
   "id": "dbd89b7f-2df8-4ae4-b12a-fd23e6db6fac",
   "metadata": {
    "tags": []
   },
   "outputs": [],
   "source": [
    "import random\n",
    "import string\n",
    "\n",
    "\n",
    "# Generate a uuid of length 8\n",
    "def generate_uuid():\n",
    "    return \"\".join(random.choices(string.ascii_lowercase + string.digits, k=8))\n",
    "\n",
    "\n",
    "UUID = generate_uuid()"
   ]
  },
  {
   "cell_type": "code",
   "execution_count": 2,
   "id": "af318aeb",
   "metadata": {
    "id": "af318aeb",
    "tags": []
   },
   "outputs": [],
   "source": [
    "import kfp\n",
    "import matplotlib.pyplot as plt\n",
    "import pandas as pd\n",
    "import requests\n",
    "\n",
    "from kfp import dsl\n",
    "from kfp import compiler\n",
    "from kfp.dsl import (Artifact, Dataset, Input, InputPath, Model, Output,\n",
    "                        OutputPath, ClassificationMetrics, Metrics, component)\n",
    "\n",
    "from google.cloud import aiplatform\n",
    "from google.cloud import storage\n",
    "from google.cloud.aiplatform import pipeline_jobs\n",
    "from typing import NamedTuple\n",
    "\n",
    "from datetime import datetime"
   ]
  },
  {
   "cell_type": "code",
   "execution_count": 3,
   "id": "a77095ea",
   "metadata": {
    "id": "a77095ea",
    "tags": []
   },
   "outputs": [],
   "source": [
    "VIEW_NAME = 'ga_data' # BigQuery view you create for input data to model\n",
    "DATA_SET_ID = 'propensity' # The Data Set ID where the view sits\n",
    "PROJECT_ID = 'demoproject-359716' # The Project ID\n",
    "BUCKET_NAME = 'pratappropensity' # Bucket where the base_sql.txt file lives. You'll need to make the bucket.\n",
    "BLOB_PATH = f'{BUCKET_NAME}/base_sql.txt' # The actual path where base_sql will be sent to"
   ]
  },
  {
   "cell_type": "code",
   "execution_count": 4,
   "id": "mYMQx9w35DAa",
   "metadata": {
    "id": "mYMQx9w35DAa",
    "tags": []
   },
   "outputs": [
    {
     "name": "stdout",
     "output_type": "stream",
     "text": [
      "env: PATH=/usr/local/cuda/bin:/opt/conda/bin:/opt/conda/condabin:/usr/local/bin:/usr/bin:/bin:/usr/local/games:/usr/games:/home/jupyter/.local/bin\n"
     ]
    },
    {
     "data": {
      "text/plain": [
       "'gs://pratappropensity'"
      ]
     },
     "execution_count": 4,
     "metadata": {},
     "output_type": "execute_result"
    }
   ],
   "source": [
    "PATH=%env PATH\n",
    "%env PATH={PATH}:/home/jupyter/.local/bin\n",
    "REGION=\"us-west2\"\n",
    "\n",
    "PIPELINE_ROOT = f'gs://{BUCKET_NAME}' # This is where all pipeline artifacts are sent. You'll need to ensure the bucket is created ahead of time\n",
    "PIPELINE_ROOT"
   ]
  },
  {
   "cell_type": "code",
   "execution_count": 5,
   "id": "idXvSzhu5G3d",
   "metadata": {
    "id": "idXvSzhu5G3d",
    "tags": []
   },
   "outputs": [
    {
     "name": "stdout",
     "output_type": "stream",
     "text": [
      "Updated property [core/project].\n",
      "Dataset 'demoproject-359716:propensity' successfully created.\n"
     ]
    }
   ],
   "source": [
    "# In order to build BQ Dataset\n",
    "!gcloud config set project $PROJECT_ID\n",
    "REGION = 'US'\n",
    "!bq mk --location=$REGION --dataset $PROJECT_ID:$DATA_SET_ID"
   ]
  },
  {
   "cell_type": "code",
   "execution_count": 7,
   "id": "dd437eda",
   "metadata": {
    "tags": []
   },
   "outputs": [
    {
     "data": {
      "text/plain": [
       "'https://storage.googleapis.com/pratappropensity/pratappropensity/base_sql.txt'"
      ]
     },
     "execution_count": 7,
     "metadata": {},
     "output_type": "execute_result"
    }
   ],
   "source": [
    "# Send base_sql.txt to GCS bucket\n",
    "\n",
    "storage_client = storage.Client()\n",
    "bucket = storage_client.get_bucket(BUCKET_NAME)\n",
    "blob = bucket.blob(BLOB_PATH)\n",
    "blob.upload_from_filename(\"base_sql.txt\")\n",
    "blob.public_url"
   ]
  },
  {
   "cell_type": "code",
   "execution_count": 8,
   "id": "9f6dc47a-348c-489a-b11b-0d09ff7eb74d",
   "metadata": {
    "id": "9f6dc47a-348c-489a-b11b-0d09ff7eb74d",
    "tags": []
   },
   "outputs": [],
   "source": [
    "@component(\n",
    "    # this component builds a BQ view, which will be the underlying source for model\n",
    "    packages_to_install=[\"google-cloud-bigquery\", \"google-cloud-storage\"],\n",
    "    base_image=\"python:3.9\",\n",
    ")\n",
    "\n",
    "def create_input_view(view_name: str,\n",
    "                      data_set_id: str,\n",
    "                      project_id: str,\n",
    "                      bucket_name: str,\n",
    "                      blob_path: str\n",
    "\n",
    "):\n",
    "    from google.cloud import bigquery\n",
    "    from google.cloud import storage\n",
    "    client = bigquery.Client(project=project_id)\n",
    "    dataset = client.dataset(data_set_id)\n",
    "    table_ref = dataset.table(view_name)\n",
    "    ga_data_ref = 'bigquery-public-data.google_analytics_sample.ga_sessions_*'\n",
    "    conversion = \"hits.page.pageTitle like '%Shopping Cart%'\" # this is sql like syntax used to define the conversion in the GA360 raw export\n",
    "    start_date = '20170101'\n",
    "    end_date = '20170131'\n",
    "\n",
    "\n",
    "    def get_sql(bucket_name, blob_path):\n",
    "        from google.cloud import storage\n",
    "        storage_client = storage.Client()\n",
    "        bucket = storage_client.get_bucket(bucket_name)\n",
    "        blob = bucket.get_blob(blob_path)\n",
    "        content = blob.download_as_string()\n",
    "        return content\n",
    "\n",
    "    def if_tbl_exists(client, table_ref):\n",
    "        from google.cloud.exceptions import NotFound\n",
    "        try:\n",
    "            client.get_table(table_ref)\n",
    "            return True\n",
    "        except NotFound:\n",
    "            return False\n",
    "\n",
    "    if if_tbl_exists(client, table_ref):\n",
    "        print(\"view already exists\")\n",
    "\n",
    "    else:\n",
    "        #load sql from base_sql.txt.  This can be modified if you want to modify your query\n",
    "        content = get_sql(bucket_name, blob_path)\n",
    "        content = str(content, 'utf-8')\n",
    "        create_base_feature_set_query = content.format(start_date = start_date,\n",
    "                                                       end_date = end_date,\n",
    "                                                       ga_data_ref = ga_data_ref,\n",
    "                                                       conversion = conversion)\n",
    "\n",
    "        shared_dataset_ref = client.dataset(data_set_id)\n",
    "        base_feature_set_view_ref = shared_dataset_ref.table(view_name)\n",
    "        base_feature_set_view = bigquery.Table(base_feature_set_view_ref)\n",
    "        base_feature_set_view.view_query = create_base_feature_set_query.format(project_id)\n",
    "        base_feature_set_view = client.create_table(base_feature_set_view)  # API request\n"
   ]
  },
  {
   "cell_type": "code",
   "execution_count": 9,
   "id": "0ba6d3be",
   "metadata": {
    "id": "0ba6d3be",
    "tags": []
   },
   "outputs": [],
   "source": [
    "@component(\n",
    "    # this component builds a logistic regression with BigQuery ML\n",
    "    packages_to_install=[\"google-cloud-bigquery\"],\n",
    "    base_image=\"python:3.9\",\n",
    ")\n",
    "\n",
    "\n",
    "def build_bqml_logistic(project_id: str,\n",
    "                         data_set_id: str,\n",
    "                         model_name: str,\n",
    "                         training_view: str\n",
    "):\n",
    "    from google.cloud import bigquery\n",
    "    client = bigquery.Client(project=project_id)\n",
    "\n",
    "    model_name = f\"{project_id}.{data_set_id}.{model_name}\"\n",
    "    training_set = f\"{project_id}.{data_set_id}.{training_view}\"\n",
    "    build_model_query_bqml_logistic = '''\n",
    "    CREATE OR REPLACE MODEL `{model_name}`\n",
    "    OPTIONS(model_type='logistic_reg'\n",
    "    , INPUT_LABEL_COLS = ['label']\n",
    "    , L1_REG = 1\n",
    "    , DATA_SPLIT_METHOD = 'RANDOM'\n",
    "    , DATA_SPLIT_EVAL_FRACTION = 0.20\n",
    "    ) AS\n",
    "        SELECT * EXCEPT (fullVisitorId, label),\n",
    "        CASE WHEN label is null then 0 ELSE label end as label\n",
    "    FROM `{training_set}`\n",
    "    '''.format(model_name = model_name, training_set = training_set)\n",
    "\n",
    "    job_config = bigquery.QueryJobConfig()\n",
    "    client.query(build_model_query_bqml_logistic, job_config=job_config)  # Make an API request."
   ]
  },
  {
   "cell_type": "code",
   "execution_count": 10,
   "id": "fe603955",
   "metadata": {
    "id": "fe603955",
    "tags": []
   },
   "outputs": [],
   "source": [
    "@component(\n",
    "    # this component builds an xgboost classifier with BigQuery ML\n",
    "    packages_to_install=[\"google-cloud-bigquery\"],\n",
    "    base_image=\"python:3.9\",\n",
    ")\n",
    "\n",
    "\n",
    "def build_bqml_xgboost(project_id: str,\n",
    "                         data_set_id: str,\n",
    "                         model_name: str,\n",
    "                         training_view: str\n",
    "):\n",
    "    from google.cloud import bigquery\n",
    "    client = bigquery.Client(project=project_id)\n",
    "\n",
    "    model_name = f\"{project_id}.{data_set_id}.{model_name}\"\n",
    "    training_set = f\"{project_id}.{data_set_id}.{training_view}\"\n",
    "    build_model_query_bqml_xgboost = '''\n",
    "    CREATE OR REPLACE MODEL `{model_name}`\n",
    "    OPTIONS(model_type='BOOSTED_TREE_CLASSIFIER'\n",
    "    , INPUT_LABEL_COLS = ['label']\n",
    "    , L1_REG = 1\n",
    "    , DATA_SPLIT_METHOD = 'RANDOM'\n",
    "    , DATA_SPLIT_EVAL_FRACTION = 0.20\n",
    "    ) AS\n",
    "        SELECT * EXCEPT (fullVisitorId, label),\n",
    "        CASE WHEN label is null then 0 ELSE label end as label\n",
    "    FROM `{training_set}`\n",
    "    '''.format(model_name = model_name, training_set = training_set)\n",
    "\n",
    "    job_config = bigquery.QueryJobConfig()\n",
    "    client.query(build_model_query_bqml_xgboost, job_config=job_config)  # Make an API request."
   ]
  },
  {
   "cell_type": "code",
   "execution_count": 11,
   "id": "1e27cdb8",
   "metadata": {
    "id": "1e27cdb8",
    "tags": []
   },
   "outputs": [],
   "source": [
    "@component(\n",
    "    # this component builds an AutoML classifier with BigQuery ML\n",
    "    packages_to_install=[\"google-cloud-bigquery\"],\n",
    "    base_image=\"python:3.9\",\n",
    ")\n",
    "\n",
    "\n",
    "def build_bqml_automl(project_id: str,\n",
    "                         data_set_id: str,\n",
    "                         model_name: str,\n",
    "                         training_view: str\n",
    "):\n",
    "    from google.cloud import bigquery\n",
    "    client = bigquery.Client(project=project_id)\n",
    "\n",
    "    model_name = f\"{project_id}.{data_set_id}.{model_name}\"\n",
    "    training_set = f\"{project_id}.{data_set_id}.{training_view}\"\n",
    "    build_model_query_bqml_automl = '''\n",
    "    CREATE OR REPLACE MODEL `{model_name}`\n",
    "    OPTIONS(model_type='BOOSTED_TREE_CLASSIFIER'\n",
    "    , INPUT_LABEL_COLS = ['label']\n",
    "    ) AS\n",
    "        SELECT * EXCEPT (fullVisitorId, label),\n",
    "        CASE WHEN label is null then 0 ELSE label end as label\n",
    "    FROM `{training_set}`\n",
    "    '''.format(model_name = model_name, training_set = training_set)\n",
    "\n",
    "    job_config = bigquery.QueryJobConfig()\n",
    "    client.query(build_model_query_bqml_automl, job_config=job_config)  # Make an API request."
   ]
  },
  {
   "cell_type": "code",
   "execution_count": 63,
   "id": "211c652f",
   "metadata": {
    "id": "211c652f",
    "tags": []
   },
   "outputs": [],
   "source": [
    "@component(\n",
    "    # this component builds an xgboost classifier with xgboost\n",
    "    packages_to_install=[\"google-cloud-bigquery\", \"pandas\",\"xgboost\", \"scikit-learn\", \"joblib\",\"pyarrow\", \"db-dtypes\"],\n",
    "                        #\"click==8.1.7\", \"docstring-parser\", \"google-cloud-storage\", \"kfp-pipeline-spec==0.3.0\", \"kfp-server-api\",\n",
    "                        #\"PyYAML\", \"requests-toolbelt\", \"tabulate\", \"protobuf\", \"urllib3<2.0.0\"],\n",
    "    base_image=\"python:3.9\",\n",
    ")\n",
    "\n",
    "def build_xgb_xgboost(project_id: str,\n",
    "                            data_set_id: str,\n",
    "                            training_view: str,\n",
    "                            metrics: Output[Metrics],\n",
    "                            model: Output[Model]\n",
    "\n",
    "):\n",
    "    from google.cloud import bigquery\n",
    "    import xgboost as xgb\n",
    "    from xgboost import XGBClassifier\n",
    "    from sklearn.model_selection import train_test_split, StratifiedKFold, RandomizedSearchCV, GridSearchCV\n",
    "    from sklearn.metrics import accuracy_score, roc_auc_score, precision_recall_curve\n",
    "    from joblib import dump\n",
    "    import pandas as pd\n",
    "    import pyarrow\n",
    "    import os\n",
    "    import numpy as np\n",
    "    \n",
    "    print(pd.__version__) \n",
    "    print (np.__version__)\n",
    "    client = bigquery.Client(project=project_id)\n",
    "\n",
    "    data_set = f\"{project_id}.{data_set_id}.{training_view}\"\n",
    "    build_df_for_xgboost = '''\n",
    "    SELECT * FROM `{data_set}`\n",
    "    '''.format(data_set = data_set)\n",
    "\n",
    "    job_config = bigquery.QueryJobConfig()\n",
    "    df = client.query(build_df_for_xgboost, job_config=job_config).to_dataframe()  # Make an API request.\n",
    "    df = pd.get_dummies(df.drop(['fullVisitorId'], axis=1), prefix=['visited_dma', 'visited_daypart', 'visited_dow'])\n",
    "\n",
    "\n",
    "    X = df.drop(['label'], axis=1).values\n",
    "    y = df['label'].values\n",
    "\n",
    "    X_train, X_test, y_train, y_test  = train_test_split(X,y)\n",
    "    xgb_model = XGBClassifier(n_estimators=50, objective='binary:hinge',\n",
    "                              silent=True, nthread=1,\n",
    "                              eval_metric=\"auc\")\n",
    "\n",
    "    xgb_model.fit(X_train, y_train)\n",
    "\n",
    "\n",
    "\n",
    "    os.makedirs(model.path, exist_ok=True)\n",
    "    dump(xgb_model, os.path.join(model.path, \"model.joblib\"))\n",
    "\n",
    "\n"
   ]
  },
  {
   "cell_type": "code",
   "execution_count": 64,
   "id": "0bf45265",
   "metadata": {
    "id": "0bf45265",
    "tags": []
   },
   "outputs": [],
   "source": [
    "@component(\n",
    "    # this component evaluations Logistic Regression\n",
    "    packages_to_install=[\"google-cloud-bigquery\", \"pandas\", \"pyarrow\", \"matplotlib\", \"db-dtypes\"],\n",
    "    base_image=\"python:3.9\",\n",
    ")\n",
    "\n",
    "\n",
    "def evaluate_bqml_logistic(project_id: str,\n",
    "                            data_set_id: str,\n",
    "                            model_name: str,\n",
    "                            training_view: str,\n",
    "                            logistic_data_path: OutputPath(\"Dataset\")\n",
    "):\n",
    "    from google.cloud import bigquery\n",
    "    from google.cloud.exceptions import NotFound\n",
    "    import pandas as pd\n",
    "    import pyarrow\n",
    "    import matplotlib as plt\n",
    "    import time\n",
    "\n",
    "    client = bigquery.Client(project=project_id)\n",
    "\n",
    "    # wait to ensure the model exists.  check 5 times with a minute wait between.\n",
    "    model_name = project_id+'.'+data_set_id+'.'+model_name\n",
    "\n",
    "    for i in range(0,5):\n",
    "        try:\n",
    "            client.get_model(model_name) # Make an API request.\n",
    "            # print(f\"Model {model_name} already exists.\")\n",
    "            break # if here, the model exists so we exit the loop\n",
    "        except:\n",
    "            # print(f\"Model {model_name} is not found. Attempt #: {i}\")\n",
    "            time.sleep(60)\n",
    "\n",
    "    training_set = project_id+'.'+data_set_id+'.'+training_view\n",
    "    evaluate_model_query_bqml_logistic = '''\n",
    "    SELECT\n",
    "      round(threshold, 2) as threshold,\n",
    "      * except(threshold),\n",
    "      true_positives / (true_positives + false_positives) AS precision\n",
    "    FROM\n",
    "      ML.ROC_CURVE(MODEL `{model_name}`,\n",
    "                   TABLE `{table_name}`,\n",
    "                   GENERATE_ARRAY(0,1, 0.01))\n",
    "\n",
    "    ORDER BY threshold\n",
    "    '''.format(model_name = model_name, table_name = training_set)\n",
    "\n",
    "    job_config = bigquery.QueryJobConfig()\n",
    "    query_job = client.query(evaluate_model_query_bqml_logistic, job_config=job_config)  # Make an API request.\n",
    "    df_evaluation_logistic = query_job.result()\n",
    "    df_evaluation_logistic = df_evaluation_logistic.to_dataframe()\n",
    "    df_evaluation_logistic.to_csv(logistic_data_path)\n",
    "    graph = df_evaluation_logistic.plot(x='threshold', y=['precision', 'recall']).get_figure()\n",
    "    graph.savefig(logistic_data_path)\n"
   ]
  },
  {
   "cell_type": "code",
   "execution_count": 65,
   "id": "8ee5a851",
   "metadata": {
    "id": "8ee5a851",
    "tags": []
   },
   "outputs": [],
   "source": [
    "@component(\n",
    "    # this component evaluates BigQuery ML XGBoost\n",
    "    packages_to_install=[\"google-cloud-bigquery\", \"pandas\", \"pyarrow\", \"matplotlib\", \"db-dtypes\"],\n",
    "    base_image=\"python:3.9\",\n",
    ")\n",
    "\n",
    "\n",
    "def evaluate_bqml_xgboost(project_id: str,\n",
    "                            data_set_id: str,\n",
    "                            model_name: str,\n",
    "                            training_view: str,\n",
    "                            xgboost_data_path: OutputPath(\"Dataset\")\n",
    "):\n",
    "    from google.cloud import bigquery\n",
    "    from google.cloud.exceptions import NotFound\n",
    "    import pandas as pd\n",
    "    import pyarrow\n",
    "    import matplotlib as plt\n",
    "    import time\n",
    "\n",
    "\n",
    "    client = bigquery.Client(project=project_id)\n",
    "\n",
    "    # wait to ensure the model exists.  check 5 times with a minute wait between.\n",
    "    model_name = project_id+'.'+data_set_id+'.'+model_name\n",
    "\n",
    "    for i in range(0,5):\n",
    "        try:\n",
    "            client.get_model(model_name) # Make an API request.\n",
    "            # print(f\"Model {model_name} already exists.\")\n",
    "            break # if here, the model exists so we exit the loop\n",
    "        except:\n",
    "            # print(f\"Model {model_name} is not found. Attempt #: {i}\")\n",
    "            time.sleep(60)\n",
    "\n",
    "    training_set = f\"{project_id}.{data_set_id}.{training_view}\"\n",
    "    evaluate_model_query_bqml_xgboost = '''\n",
    "    SELECT\n",
    "      round(threshold, 2) as threshold,\n",
    "      * except(threshold),\n",
    "      true_positives / (true_positives + false_positives) AS precision\n",
    "    FROM\n",
    "      ML.ROC_CURVE(MODEL `{model_name}`,\n",
    "                   TABLE `{table_name}`,\n",
    "                   GENERATE_ARRAY(0,1, 0.01))\n",
    "\n",
    "    ORDER BY threshold\n",
    "    '''.format(model_name = model_name, table_name = training_set)\n",
    "\n",
    "\n",
    "    job_config = bigquery.QueryJobConfig()\n",
    "    query_job = client.query(evaluate_model_query_bqml_xgboost, job_config=job_config)  # Make an API request.\n",
    "    df_evaluation_xgboost = query_job.result()\n",
    "    df_evaluation_xgboost = df_evaluation_xgboost.to_dataframe()\n",
    "    df_evaluation_xgboost.to_csv(xgboost_data_path)\n",
    "    graph = df_evaluation_xgboost.plot(x='threshold', y=['precision', 'recall']).get_figure()\n",
    "    graph.savefig(xgboost_data_path)"
   ]
  },
  {
   "cell_type": "code",
   "execution_count": 66,
   "id": "2c9a8757",
   "metadata": {
    "id": "2c9a8757",
    "tags": []
   },
   "outputs": [],
   "source": [
    "@component(\n",
    "    # this component evaluates BigQuery ML autoML\n",
    "    packages_to_install=[\"google-cloud-bigquery\", \"pandas\", \"pyarrow\", \"matplotlib\", \"db-dtypes\"],\n",
    "    base_image=\"python:3.9\",\n",
    ")\n",
    "\n",
    "\n",
    "def evaluate_bqml_automl(project_id: str,\n",
    "                            data_set_id: str,\n",
    "                            model_name: str,\n",
    "                            training_view: str,\n",
    "                            automl_data_path: OutputPath(\"Dataset\")\n",
    "):\n",
    "    from google.cloud import bigquery\n",
    "    from google.cloud.exceptions import NotFound\n",
    "    import pandas as pd\n",
    "    import pyarrow\n",
    "    import matplotlib as plt\n",
    "    import time\n",
    "\n",
    "\n",
    "    client = bigquery.Client(project=project_id)\n",
    "\n",
    "    # wait to ensure the model exists.  check 5 times with a minute wait between.\n",
    "    model_name = project_id+'.'+data_set_id+'.'+model_name\n",
    "\n",
    "    for i in range(0,5):\n",
    "        try:\n",
    "            client.get_model(model_name) # Make an API request.\n",
    "            # print(f\"Model {model_name} already exists.\")\n",
    "            break # if here, the model exists so we exit the loop\n",
    "        except:\n",
    "            # print(f\"Model {model_name} is not found. Attempt #: {i}\")\n",
    "            time.sleep(60)\n",
    "\n",
    "    training_set = f\"{project_id}.{data_set_id}.{training_view}\"\n",
    "    evaluate_model_query_bqml_automl = '''\n",
    "    SELECT\n",
    "      round(threshold, 2) as threshold,\n",
    "      * except(threshold),\n",
    "      true_positives / (true_positives + false_positives) AS precision\n",
    "    FROM\n",
    "      ML.ROC_CURVE(MODEL `{model_name}`,\n",
    "                   TABLE `{table_name}`,\n",
    "                   GENERATE_ARRAY(0,1, 0.01))\n",
    "\n",
    "    ORDER BY threshold\n",
    "    '''.format(model_name = model_name, table_name = training_set)\n",
    "\n",
    "\n",
    "    job_config = bigquery.QueryJobConfig()\n",
    "    query_job = client.query(evaluate_model_query_bqml_automl, job_config=job_config)  # Make an API request.\n",
    "    df_evaluation_automl = query_job.result()\n",
    "    df_evaluation_automl = df_evaluation_automl.to_dataframe()\n",
    "    df_evaluation_automl.to_csv(automl_data_path)\n",
    "    graph = df_evaluation_automl.plot(x='threshold', y=['precision', 'recall']).get_figure()\n",
    "    graph.savefig(automl_data_path)"
   ]
  },
  {
   "cell_type": "code",
   "execution_count": 77,
   "id": "184373fd",
   "metadata": {
    "id": "184373fd",
    "tags": []
   },
   "outputs": [],
   "source": [
    "@component(\n",
    "    # Deploys xgboost model\n",
    "      packages_to_install=[\"google-cloud-aiplatform==1.25.0\"],\n",
    "    base_image=\"python:3.10\",\n",
    ")\n",
    "def deploy_xgb(\n",
    "    model: Input[Model],\n",
    "    project_id: str,\n",
    "    vertex_endpoint: Output[Artifact],\n",
    "    vertex_model: Output[Model]\n",
    "):\n",
    "    from google.cloud import aiplatform\n",
    "    # import os\n",
    "    aiplatform.init(project=project_id)\n",
    "    deployed_model = aiplatform.Model.upload(\n",
    "        display_name='propensity_demo',\n",
    "        artifact_uri = model.uri,\n",
    "        serving_container_image_uri=\"us-docker.pkg.dev/vertex-ai/prediction/xgboost-cpu.1-7:latest\"\n",
    "    )\n",
    "    endpoint = deployed_model.deploy(machine_type=\"n1-standard-4\")\n",
    "\n",
    "    # Save data to the output params\n",
    "    vertex_endpoint.uri = endpoint.resource_name\n",
    "    vertex_model.uri = deployed_model.resource_name\n"
   ]
  },
  {
   "cell_type": "code",
   "execution_count": 78,
   "id": "df55e79c",
   "metadata": {
    "id": "df55e79c",
    "tags": []
   },
   "outputs": [],
   "source": [
    "@dsl.pipeline(\n",
    "    # Default pipeline root. You can override it when submitting the pipeline.\n",
    "    pipeline_root=PIPELINE_ROOT,\n",
    "    # A name for the pipeline.\n",
    "    name=\"pipeline-test\",\n",
    "    description='Propensity BigQuery ML Test'\n",
    ")\n",
    "def pipeline():\n",
    "\n",
    "    create_input_view_op = create_input_view(view_name = VIEW_NAME,\n",
    "                                             data_set_id = DATA_SET_ID,\n",
    "                                             project_id = PROJECT_ID,\n",
    "                                             bucket_name = BUCKET_NAME,\n",
    "                                             blob_path = BLOB_PATH\n",
    "                                             )\n",
    "\n",
    "\n",
    "    build_bqml_logistic_op = build_bqml_logistic(project_id = PROJECT_ID,\n",
    "                                                   data_set_id = DATA_SET_ID,\n",
    "                                                   model_name = 'bqml_logistic_model',\n",
    "                                                   training_view = VIEW_NAME\n",
    "                                                   )\n",
    "\n",
    "    build_bqml_xgboost_op = build_bqml_xgboost(project_id = PROJECT_ID,\n",
    "                                                 data_set_id = DATA_SET_ID,\n",
    "                                                 model_name = 'bqml_xgboost_model',\n",
    "                                                 training_view = VIEW_NAME\n",
    "                                                 )\n",
    "\n",
    "    build_bqml_automl_op = build_bqml_automl (project_id = PROJECT_ID,\n",
    "                                                data_set_id = DATA_SET_ID,\n",
    "                                                model_name = 'bqml_automl_model',\n",
    "                                                training_view = VIEW_NAME\n",
    "                                               )\n",
    "\n",
    "\n",
    "\n",
    "    build_xgb_xgboost_op = build_xgb_xgboost(project_id = PROJECT_ID,\n",
    "                                                         data_set_id = DATA_SET_ID,\n",
    "                                                         training_view = VIEW_NAME\n",
    "                                                        )\n",
    "\n",
    "\n",
    "    evaluate_bqml_logistic_op = evaluate_bqml_logistic(project_id = PROJECT_ID,\n",
    "                                                         data_set_id = DATA_SET_ID,\n",
    "                                                         model_name = 'bqml_logistic_model',\n",
    "                                                         training_view = VIEW_NAME\n",
    "                                                         )\n",
    "\n",
    "    evaluate_bqml_xgboost_op = evaluate_bqml_xgboost(project_id = PROJECT_ID,\n",
    "                                                         data_set_id = DATA_SET_ID,\n",
    "                                                         model_name = 'bqml_xgboost_model',\n",
    "                                                         training_view = VIEW_NAME\n",
    "                                                         )\n",
    "\n",
    "    evaluate_bqml_automl_op = evaluate_bqml_automl(project_id = PROJECT_ID,\n",
    "                                                         data_set_id = DATA_SET_ID,\n",
    "                                                         model_name = 'bqml_automl_model',\n",
    "                                                         training_view = VIEW_NAME\n",
    "                                                         )\n",
    "\n",
    "\n",
    "    deploy_xgb_op = deploy_xgb(project_id = PROJECT_ID,\n",
    "                                   model=build_xgb_xgboost_op.outputs[\"model\"]\n",
    "                                  )\n",
    "\n",
    "\n",
    "    build_bqml_logistic_op.after(create_input_view_op)\n",
    "    build_bqml_xgboost_op.after(create_input_view_op)\n",
    "    build_bqml_automl_op.after(create_input_view_op)\n",
    "    build_xgb_xgboost_op.after(create_input_view_op)\n",
    "\n",
    "    evaluate_bqml_logistic_op.after(build_bqml_logistic_op)\n",
    "    evaluate_bqml_xgboost_op.after(build_bqml_xgboost_op)\n",
    "    evaluate_bqml_automl_op.after(build_bqml_automl_op)"
   ]
  },
  {
   "cell_type": "code",
   "execution_count": 79,
   "id": "4abfd490",
   "metadata": {
    "id": "4abfd490",
    "tags": []
   },
   "outputs": [],
   "source": [
    "compiler.Compiler().compile(\n",
    "    pipeline_func=pipeline, package_path=\"pipeline.yaml\"\n",
    ")"
   ]
  },
  {
   "cell_type": "code",
   "execution_count": 80,
   "id": "7a7a3ec0",
   "metadata": {
    "id": "7a7a3ec0",
    "tags": []
   },
   "outputs": [],
   "source": [
    "TIMESTAMP = datetime.now().strftime(\"%Y%m%d%H%M%S\")\n",
    "\n",
    "UUID = generate_uuid()\n",
    "DISPLAY_NAME = \"propensity_\" + UUID\n",
    "run = pipeline_jobs.PipelineJob(\n",
    "    display_name=DISPLAY_NAME,\n",
    "    template_path=\"pipeline.yaml\",\n",
    "    pipeline_root=PIPELINE_ROOT,\n",
    "\n",
    "    job_id=\"test-{0}\".format(TIMESTAMP),\n",
    "    enable_caching=True\n",
    ")"
   ]
  },
  {
   "cell_type": "code",
   "execution_count": 81,
   "id": "0be305bd",
   "metadata": {
    "tags": []
   },
   "outputs": [
    {
     "name": "stdout",
     "output_type": "stream",
     "text": [
      "Creating PipelineJob\n",
      "PipelineJob created. Resource name: projects/52920076388/locations/us-central1/pipelineJobs/test-20241012061442\n",
      "To use this PipelineJob in another session:\n",
      "pipeline_job = aiplatform.PipelineJob.get('projects/52920076388/locations/us-central1/pipelineJobs/test-20241012061442')\n",
      "View Pipeline Job:\n",
      "https://console.cloud.google.com/vertex-ai/locations/us-central1/pipelines/runs/test-20241012061442?project=52920076388\n",
      "PipelineJob projects/52920076388/locations/us-central1/pipelineJobs/test-20241012061442 current state:\n",
      "PipelineState.PIPELINE_STATE_RUNNING\n",
      "PipelineJob projects/52920076388/locations/us-central1/pipelineJobs/test-20241012061442 current state:\n",
      "PipelineState.PIPELINE_STATE_RUNNING\n",
      "PipelineJob projects/52920076388/locations/us-central1/pipelineJobs/test-20241012061442 current state:\n",
      "PipelineState.PIPELINE_STATE_RUNNING\n",
      "PipelineJob projects/52920076388/locations/us-central1/pipelineJobs/test-20241012061442 current state:\n",
      "PipelineState.PIPELINE_STATE_RUNNING\n",
      "PipelineJob projects/52920076388/locations/us-central1/pipelineJobs/test-20241012061442 current state:\n",
      "PipelineState.PIPELINE_STATE_RUNNING\n",
      "PipelineJob projects/52920076388/locations/us-central1/pipelineJobs/test-20241012061442 current state:\n",
      "PipelineState.PIPELINE_STATE_RUNNING\n",
      "PipelineJob run completed. Resource name: projects/52920076388/locations/us-central1/pipelineJobs/test-20241012061442\n"
     ]
    }
   ],
   "source": [
    "run.run()"
   ]
  },
  {
   "cell_type": "code",
   "execution_count": 82,
   "id": "79c9316c",
   "metadata": {
    "id": "79c9316c",
    "tags": []
   },
   "outputs": [
    {
     "name": "stderr",
     "output_type": "stream",
     "text": [
      "/var/tmp/ipykernel_5282/3752443459.py:3: DeprecationWarning: The module `kfp.v2` is deprecated and will be removed in a futureversion. Please import directly from the `kfp` namespace, instead of `kfp.v2`.\n",
      "  from kfp.v2.google.client import AIPlatformClient\n"
     ]
    },
    {
     "ename": "ModuleNotFoundError",
     "evalue": "No module named 'kfp.v2.google'",
     "output_type": "error",
     "traceback": [
      "\u001b[0;31m---------------------------------------------------------------------------\u001b[0m",
      "\u001b[0;31mModuleNotFoundError\u001b[0m                       Traceback (most recent call last)",
      "Cell \u001b[0;32mIn[82], line 3\u001b[0m\n\u001b[1;32m      1\u001b[0m \u001b[38;5;66;03m# this schedules a cron like job by building an endpoint using cloud functions and then scheduler\u001b[39;00m\n\u001b[0;32m----> 3\u001b[0m \u001b[38;5;28;01mfrom\u001b[39;00m \u001b[38;5;21;01mkfp\u001b[39;00m\u001b[38;5;21;01m.\u001b[39;00m\u001b[38;5;21;01mv2\u001b[39;00m\u001b[38;5;21;01m.\u001b[39;00m\u001b[38;5;21;01mgoogle\u001b[39;00m\u001b[38;5;21;01m.\u001b[39;00m\u001b[38;5;21;01mclient\u001b[39;00m \u001b[38;5;28;01mimport\u001b[39;00m AIPlatformClient\n\u001b[1;32m      5\u001b[0m api_client \u001b[38;5;241m=\u001b[39m AIPlatformClient(project_id\u001b[38;5;241m=\u001b[39mPROJECT_ID,\n\u001b[1;32m      6\u001b[0m                              region\u001b[38;5;241m=\u001b[39m\u001b[38;5;124m'\u001b[39m\u001b[38;5;124mus-central1\u001b[39m\u001b[38;5;124m'\u001b[39m\n\u001b[1;32m      7\u001b[0m                              )\n\u001b[1;32m      9\u001b[0m api_client\u001b[38;5;241m.\u001b[39mcreate_schedule_from_job_spec(\n\u001b[1;32m     10\u001b[0m     job_spec_path\u001b[38;5;241m=\u001b[39m\u001b[38;5;124m'\u001b[39m\u001b[38;5;124mpipeline.json\u001b[39m\u001b[38;5;124m'\u001b[39m,\n\u001b[1;32m     11\u001b[0m     schedule\u001b[38;5;241m=\u001b[39m\u001b[38;5;124m'\u001b[39m\u001b[38;5;124m0 * * * *\u001b[39m\u001b[38;5;124m'\u001b[39m,\n\u001b[1;32m     12\u001b[0m     enable_caching\u001b[38;5;241m=\u001b[39m\u001b[38;5;28;01mFalse\u001b[39;00m\n\u001b[1;32m     13\u001b[0m )\n",
      "\u001b[0;31mModuleNotFoundError\u001b[0m: No module named 'kfp.v2.google'"
     ]
    }
   ],
   "source": [
    "# this schedules a cron like job by building an endpoint using cloud functions and then scheduler\n",
    "\n",
    "from kfp.v2.google.client import AIPlatformClient\n",
    "\n",
    "api_client = AIPlatformClient(project_id=PROJECT_ID,\n",
    "                             region='us-central1'\n",
    "                             )\n",
    "\n",
    "api_client.create_schedule_from_job_spec(\n",
    "    job_spec_path='pipeline.json',\n",
    "    schedule='0 * * * *',\n",
    "    enable_caching=False\n",
    ")"
   ]
  },
  {
   "cell_type": "code",
   "execution_count": null,
   "id": "4aa443d7-1f26-4c60-8abd-122696f54059",
   "metadata": {},
   "outputs": [],
   "source": []
  }
 ],
 "metadata": {
  "colab": {
   "provenance": []
  },
  "environment": {
   "kernel": "conda-base-py",
   "name": "workbench-notebooks.m125",
   "type": "gcloud",
   "uri": "us-docker.pkg.dev/deeplearning-platform-release/gcr.io/workbench-notebooks:m125"
  },
  "interpreter": {
   "hash": "3494ecf7585668a5944fbfc2a6c96b24395c92a20dd2d911f61e7d937ec88b5e"
  },
  "kernelspec": {
   "display_name": "Python 3 (ipykernel) (Local)",
   "language": "python",
   "name": "conda-base-py"
  },
  "language_info": {
   "codemirror_mode": {
    "name": "ipython",
    "version": 3
   },
   "file_extension": ".py",
   "mimetype": "text/x-python",
   "name": "python",
   "nbconvert_exporter": "python",
   "pygments_lexer": "ipython3",
   "version": "3.10.15"
  }
 },
 "nbformat": 4,
 "nbformat_minor": 5
}
